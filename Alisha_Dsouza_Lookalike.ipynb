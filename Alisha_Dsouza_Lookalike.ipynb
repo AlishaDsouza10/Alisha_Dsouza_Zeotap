{
 "cells": [
  {
   "cell_type": "markdown",
   "id": "3c13af7a",
   "metadata": {},
   "source": [
    "# Lookalike Model"
   ]
  },
  {
   "cell_type": "code",
   "execution_count": 30,
   "id": "9287b29f",
   "metadata": {},
   "outputs": [],
   "source": [
    "import numpy as np\n",
    "import pandas as pd"
   ]
  },
  {
   "cell_type": "code",
   "execution_count": 31,
   "id": "3a1ad642",
   "metadata": {},
   "outputs": [],
   "source": [
    "Customers = pd.read_csv(\"C:\\\\Users\\\\Alisha\\\\Downloads\\\\Customers.csv\")\n",
    "Products = pd.read_csv(\"C:\\\\Users\\\\Alisha\\\\Downloads\\\\Products.csv\")\n",
    "Transactions = pd.read_csv(\"C:\\\\Users\\\\Alisha\\\\Downloads\\\\Transactions.csv\")"
   ]
  },
  {
   "cell_type": "code",
   "execution_count": 45,
   "id": "94a28030",
   "metadata": {
    "scrolled": true
   },
   "outputs": [],
   "source": [
    "# Assuming 'Alisha_Dsouza_EDA.merged_data' is previously created, use it to group and sum\n",
    "import nbimporter\n",
    "import Alisha_Dsouza_EDA"
   ]
  },
  {
   "cell_type": "code",
   "execution_count": 33,
   "id": "4a658fc9",
   "metadata": {},
   "outputs": [],
   "source": [
    "customer_features = Alisha_Dsouza_EDA.merged_data.groupby('CustomerID')[['TotalValue', 'Quantity', 'Price']].sum()"
   ]
  },
  {
   "cell_type": "code",
   "execution_count": 34,
   "id": "7acf165f",
   "metadata": {},
   "outputs": [],
   "source": [
    "from sklearn.metrics.pairwise import cosine_similarity\n",
    "from sklearn.preprocessing import MinMaxScaler"
   ]
  },
  {
   "cell_type": "code",
   "execution_count": 35,
   "id": "4ebfd7ab",
   "metadata": {},
   "outputs": [],
   "source": [
    "#scaling\n",
    "scaler = MinMaxScaler()\n",
    "scaled_features = scaler.fit_transform(customer_features)"
   ]
  },
  {
   "cell_type": "code",
   "execution_count": 36,
   "id": "f3fa4dc2",
   "metadata": {},
   "outputs": [],
   "source": [
    "similarity_matrix = cosine_similarity(scaled_features)"
   ]
  },
  {
   "cell_type": "code",
   "execution_count": 40,
   "id": "34448b12",
   "metadata": {},
   "outputs": [],
   "source": [
    "recommendations = {}"
   ]
  },
  {
   "cell_type": "code",
   "execution_count": 41,
   "id": "97730cec",
   "metadata": {},
   "outputs": [],
   "source": [
    "# For the first 20 customers, find their top 3 most similar customers\n",
    "for i, cust_id in enumerate(customer_features.index[:20]):\n",
    "    # Get the indices of the top 3 most similar customers (excluding the customer itself)\n",
    "    similar_customers = similarity_matrix[i].argsort()[-4:-1]  # Get indices of top 3 similar customers (argsort sorts in ascending order)\n",
    "    recommendations[cust_id] = [(customer_features.index[sim_id], similarity_matrix[i][sim_id]) for sim_id in similar_customers]"
   ]
  },
  {
   "cell_type": "code",
   "execution_count": 42,
   "id": "decc0ad4",
   "metadata": {},
   "outputs": [],
   "source": [
    "#Create a list of recommendations in a simple format\n",
    "recommendations_list = [(cust_id, rec[0], rec[1]) for cust_id, rec_list in recommendations.items() for rec in rec_list]\n",
    "\n",
    "# Convert the list into a DataFrame\n",
    "recommendations_df = pd.DataFrame(recommendations_list, columns=['CustomerID', 'LookalikeCustomerID', 'SimilarityScore'])"
   ]
  },
  {
   "cell_type": "code",
   "execution_count": 43,
   "id": "aeab7ce7",
   "metadata": {},
   "outputs": [],
   "source": [
    "# Save the results to \"Lookalike.csv\"\n",
    "recommendations_df.to_csv(\"C:\\\\Users\\\\Alisha\\\\Downloads\\\\Lookalike.csv\", index=False)"
   ]
  },
  {
   "cell_type": "code",
   "execution_count": 46,
   "id": "e21ee764",
   "metadata": {
    "scrolled": true
   },
   "outputs": [
    {
     "name": "stdout",
     "output_type": "stream",
     "text": [
      "  CustomerID LookalikeCustomerID  SimilarityScore\n",
      "0      C0001               C0173         0.999840\n",
      "1      C0001               C0145         0.999905\n",
      "2      C0001               C0177         0.999959\n",
      "3      C0002               C0160         0.999133\n",
      "4      C0002               C0029         0.999868\n"
     ]
    }
   ],
   "source": [
    "# Show the output\n",
    "print(recommendations_df.head())"
   ]
  },
  {
   "cell_type": "code",
   "execution_count": null,
   "id": "25545701",
   "metadata": {},
   "outputs": [],
   "source": []
  }
 ],
 "metadata": {
  "kernelspec": {
   "display_name": "Python 3 (ipykernel)",
   "language": "python",
   "name": "python3"
  },
  "language_info": {
   "codemirror_mode": {
    "name": "ipython",
    "version": 3
   },
   "file_extension": ".py",
   "mimetype": "text/x-python",
   "name": "python",
   "nbconvert_exporter": "python",
   "pygments_lexer": "ipython3",
   "version": "3.11.4"
  }
 },
 "nbformat": 4,
 "nbformat_minor": 5
}
